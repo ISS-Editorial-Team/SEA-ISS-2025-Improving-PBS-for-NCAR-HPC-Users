{
 "cells": [
  {
   "cell_type": "markdown",
   "id": "0953399e-6037-4046-8a12-3816aba4beea",
   "metadata": {},
   "source": [
    "# Results\n",
    "\n",
    "Here, we will demonstrate the results of our new `qhist` version using a test dataset. First, let's make sure we have cleaned up any prior created data and qhist install for this notebook, and also avoid side-effects if this system does support a `qhist` config already."
   ]
  },
  {
   "cell_type": "code",
   "execution_count": 1,
   "id": "0958c0c5-13db-44b7-85be-181c1aacef0f",
   "metadata": {},
   "outputs": [],
   "source": [
    "# First, define the root path for our experiment directory\n",
    "exp_root=$(pwd)\n",
    "\n",
    "# Remove any existing files from prior notebook runs\n",
    "rm -rf sample_logs local qhist\n",
    "mkdir sample_logs\n",
    "\n",
    "# Let's also make sure a system config does not intefere with our tests\n",
    "unset QHIST_SERVER_CONFIG"
   ]
  },
  {
   "cell_type": "markdown",
   "id": "0d345c74-d362-4367-a3ea-e0bb7f8821fd",
   "metadata": {},
   "source": [
    "Now, we can create the data:"
   ]
  },
  {
   "cell_type": "code",
   "execution_count": 2,
   "id": "d3175543-02c7-4829-a637-828e67c736e8",
   "metadata": {},
   "outputs": [],
   "source": [
    "# Create two \"days\" of data\n",
    "cat > sample_logs/20250331 << \"EOF\"\n",
    "03/31/2025 10:59:25;R;4215033.casper-pbs;user=vanderwb group=csgteam account=\"SCSG0001\" project=_pbs_project_default jobname=STDIN queue=htc ctime=1743440355 qtime=1743440355 etime=1743440355 start=1743440360 exec_host=crhtc65/34 exec_vnode=(crhtc65:ncpus=1:mem=1kb) Resource_List.mem=30b Resource_List.mps=0 Resource_List.ncpus=1 Resource_List.ngpus=0 Resource_List.nodect=1 Resource_List.nvpus=0 Resource_List.place=scatter Resource_List.select=1:ncpus=1:mem=30:ompthreads=1 Resource_List.walltime=06:00:00 session=0 end=1743440365 Exit_status=-3 resources_used.cpupercent=0 resources_used.cput=00:00:00 resources_used.mem=0b resources_used.ncpus=1 resources_used.vmem=0kb resources_used.walltime=00:00:00 eligible_time=00:00:08 run_count=1\n",
    "03/31/2025 10:59:35;E;4215033.casper-pbs;user=vanderwb group=csgteam account=\"SCSG0001\" project=_pbs_project_default jobname=STDIN queue=htc ctime=1743440355 qtime=1743440355 etime=1743440355 start=1743440371 exec_host=crhtc65/34 exec_vnode=(crhtc65:ncpus=1:mem=1kb) Resource_List.mem=30b Resource_List.mps=0 Resource_List.ncpus=1 Resource_List.ngpus=0 Resource_List.nodect=1 Resource_List.nvpus=0 Resource_List.place=scatter Resource_List.select=1:ncpus=1:mem=30:ompthreads=1 Resource_List.walltime=06:00:00 session=0 end=1743440375 Exit_status=-1 resources_used.cpupercent=0 resources_used.cput=00:00:00 resources_used.mem=0b resources_used.ncpus=1 resources_used.vmem=0kb resources_used.walltime=00:00:00 eligible_time=00:00:08 run_count=2\n",
    "03/31/2025 11:03:12;E;4215034.casper-pbs;user=vanderwb group=csgteam account=\"SCSG0001\" project=_pbs_project_default jobname=STDIN queue=htc ctime=1743440363 qtime=1743440363 etime=1743440363 start=1743440374 exec_host=crhtc86/12 exec_vnode=(crhtc86:ncpus=1:mem=31457280kb) Resource_List.mem=30gb Resource_List.mps=0 Resource_List.ncpus=1 Resource_List.ngpus=0 Resource_List.nodect=1 Resource_List.nvpus=0 Resource_List.place=scatter Resource_List.select=1:ncpus=1:mem=30GB:ompthreads=1 Resource_List.walltime=06:00:00 session=108694 end=1743440592 Exit_status=0 resources_used.cpupercent=2 resources_used.cput=00:00:09 resources_used.mem=756960kb resources_used.ncpus=1 resources_used.vmem=8653400kb resources_used.walltime=00:03:36 eligible_time=00:00:13 run_count=1\n",
    "03/31/2025 11:34:35;E;4215265.casper-pbs;user=bneuman group=ncar account=\"SCSG0001\" project=_pbs_project_default jobname=bneuman_matlab queue=htc ctime=1743442446 qtime=1743442446 etime=1743442446 start=1743442452 exec_host=crhtc72/0*5 exec_vnode=(crhtc72:ncpus=5:mem=10485760kb) Resource_List.mem=10gb Resource_List.mps=0 Resource_List.ncpus=5 Resource_List.ngpus=0 Resource_List.nodect=1 Resource_List.nvpus=0 Resource_List.place=scatter Resource_List.select=1:ncpus=5:ompthreads=5 Resource_List.walltime=00:25:00 session=95643 end=1743442475 Exit_status=0 resources_used.cpupercent=156 resources_used.cput=00:00:30 resources_used.mem=3163632kb resources_used.ncpus=5 resources_used.vmem=23445720kb resources_used.walltime=00:00:19 eligible_time=00:00:08 run_count=1\n",
    "EOF\n",
    "\n",
    "cat > sample_logs/20250401 << \"EOF\"\n",
    "04/01/2025 13:07:35;E;4220853.casper-pbs;user=negins group=ncar account=\"P93300606\" project=_pbs_project_default jobname=cr-jhub-batch-stable queue=htc ctime=1743527223 qtime=1743527223 etime=1743527223 start=1743527229 exec_host=crhtc65/20 exec_vnode=(crhtc65:ncpus=1:mem=4194304kb) Resource_List.mem=4gb Resource_List.mpiprocs=1 Resource_List.mps=0 Resource_List.ncpus=1 Resource_List.ngpus=0 Resource_List.nodect=1 Resource_List.nvpus=0 Resource_List.place=scatter Resource_List.select=1:ncpus=1:mpiprocs=1:ompthreads=1:mem=4GB Resource_List.walltime=02:00:00 session=104352 end=1743534455 Exit_status=-29 resources_used.cpupercent=8 resources_used.cput=00:03:52 resources_used.mem=261056kb resources_used.ncpus=1 resources_used.vmem=667248kb resources_used.walltime=02:00:22 eligible_time=00:00:09 run_count=1\n",
    "EOF"
   ]
  },
  {
   "cell_type": "markdown",
   "id": "be25b708-0e78-429e-97c7-1da5dbf5d679",
   "metadata": {},
   "source": [
    "## Installing `qhist` with the `Makefile`\n",
    "\n",
    "Since we are running `qhist` as a command-line utility within a *bash* kernel, we will use the Makefile approach for installing the latest version of qhist."
   ]
  },
  {
   "cell_type": "code",
   "execution_count": 3,
   "id": "eaa7cc42-c311-4bb8-ad1e-4e5cf8101cfe",
   "metadata": {},
   "outputs": [
    {
     "name": "stdout",
     "output_type": "stream",
     "text": [
      "Cloning into 'qhist'...\n",
      "remote: Enumerating objects: 27, done.        \n",
      "remote: Counting objects: 100% (27/27), done.        \n",
      "remote: Compressing objects: 100% (17/17), done.        \n",
      "remote: Total 27 (delta 0), reused 22 (delta 0), pack-reused 0 (from 0)        \n",
      "Receiving objects: 100% (27/27), 14.29 KiB | 975.00 KiB/s, done.\n",
      "Note: switching to 'b93fef768c43812bf622621dc1f8548a27f043f2'.\n",
      "\n",
      "You are in 'detached HEAD' state. You can look around, make experimental\n",
      "changes and commit them, and you can discard any commits you make in this\n",
      "state without impacting any branches by switching back to a branch.\n",
      "\n",
      "If you want to create a new branch to retain commits you create, you may\n",
      "do so (now or later) by using -c with the switch command. Example:\n",
      "\n",
      "  git switch -c <new-branch-name>\n",
      "\n",
      "Or undo this operation with:\n",
      "\n",
      "  git switch -\n",
      "\n",
      "Turn off this advice by setting config variable advice.detachedHead to false\n",
      "\n",
      "git submodule init\n",
      "Submodule 'lib/pbsparse' (git@github.com:NCAR/pbsparse.git) registered for path 'lib/pbsparse'\n",
      "git submodule update\n",
      "Cloning into '/glade/work/vanderwb/papers/SEA-ISS-2025-Improving-PBS-for-NCAR-HPC-Users/notebooks/qhist/lib/pbsparse'...\n",
      "Submodule path 'lib/pbsparse': checked out '057b0f811802308c7314e500b792a0233b7c70fd'\n",
      "mkdir -p /glade/work/vanderwb/papers/SEA-ISS-2025-Improving-PBS-for-NCAR-HPC-Users/notebooks/local/bin /glade/work/vanderwb/papers/SEA-ISS-2025-Improving-PBS-for-NCAR-HPC-Users/notebooks/local/lib/qhist /glade/work/vanderwb/papers/SEA-ISS-2025-Improving-PBS-for-NCAR-HPC-Users/notebooks/local/share\n",
      "sed 's|/src|/lib/qhist|' bin/qhist > /glade/work/vanderwb/papers/SEA-ISS-2025-Improving-PBS-for-NCAR-HPC-Users/notebooks/local/bin/qhist\n",
      "cp -r src/qhist /glade/work/vanderwb/papers/SEA-ISS-2025-Improving-PBS-for-NCAR-HPC-Users/notebooks/local/lib/qhist\n",
      "cp -r lib/pbsparse/src/pbsparse /glade/work/vanderwb/papers/SEA-ISS-2025-Improving-PBS-for-NCAR-HPC-Users/notebooks/local/lib/qhist\n",
      "cp -r share /glade/work/vanderwb/papers/SEA-ISS-2025-Improving-PBS-for-NCAR-HPC-Users/notebooks/local/share\n",
      "chmod +x /glade/work/vanderwb/papers/SEA-ISS-2025-Improving-PBS-for-NCAR-HPC-Users/notebooks/local/bin/qhist\n"
     ]
    }
   ],
   "source": [
    "# First, let's clone the qhist repository\n",
    "git clone --depth 1 --branch v1.0 https://github.com/NCAR/qhist.git\n",
    "\n",
    "# Now we install into a specified prefix, which will also install pbsparse\n",
    "cd qhist\n",
    "make install PREFIX=$exp_root/local\n",
    "cd $exp_root"
   ]
  },
  {
   "cell_type": "markdown",
   "id": "0fd6dd37-eabe-4466-8dad-4181089c421f",
   "metadata": {},
   "source": [
    "### Configuring qhist\n",
    "\n",
    "`qhist` relies on a configuration file, which will tell the tool where to find accounting logs. There are multiple ways to specify this config file:\n",
    "\n",
    "1. Set the environment variable `QHIST_SERVER_CONFIG` to the path of your configuration file.\n",
    "2. Put your configuration into `server.json` within the `cfg` subdirectory of your `qhist` installation.\n",
    "3. Create a configuration file at `/etc/qhist/server.json`.\n",
    "\n",
    "For this demonstration, we will use the second approach."
   ]
  },
  {
   "cell_type": "code",
   "execution_count": 4,
   "id": "73e7b0c6-d171-4b43-8879-0afc609fc31f",
   "metadata": {},
   "outputs": [],
   "source": [
    "cat > $exp_root/local/lib/qhist/qhist/cfg/server.json << EOF\n",
    "{\n",
    "    \"pbs_log_path\"      : \"$exp_root/sample_logs\"\n",
    "}\n",
    "EOF"
   ]
  },
  {
   "cell_type": "code",
   "execution_count": 5,
   "id": "1cc95304-ae21-4393-8164-dd4a98ca0ae8",
   "metadata": {},
   "outputs": [],
   "source": [
    "# Finally, let's add qhist to our PATH\n",
    "export PATH=$exp_root/local/bin:$PATH"
   ]
  },
  {
   "cell_type": "markdown",
   "id": "b8688af7-3a4a-48d2-b9de-6562faf5902b",
   "metadata": {},
   "source": [
    "We should now be able to use qhist!\n",
    "\n",
    "## Basic queries\n",
    "\n",
    "Since we are not using data from the current date, we will need to specify the date directly using the `-p/--period` argument to `qhist`."
   ]
  },
  {
   "cell_type": "code",
   "execution_count": 6,
   "id": "ca5fe256-1dd5-49ca-b1e3-749c15776665",
   "metadata": {},
   "outputs": [
    {
     "name": "stdout",
     "output_type": "stream",
     "text": [
      "Job ID       User       Queue    Nodes  NCPUs NGPUs     End  Mem(GB)   CPU(%)  Elap(h)\n",
      "------------ ---------- -------- ----- ------ ----- ------- -------- -------- --------\n",
      "4220853      negins     htc          1      1     0 01-1307     0.25     8.00     2.01\n"
     ]
    }
   ],
   "source": [
    "qhist --period 20250401"
   ]
  },
  {
   "cell_type": "markdown",
   "id": "6739f4b5-8893-4123-beba-75a238ff6d8c",
   "metadata": {},
   "source": [
    "By default, qhist will show tabular data in normal width, with only jobs that have \"ended\" being displayed. We can change this behavior via command-line arguments. For example, let's say we wanted to display `R` or \"requeue\" records in long-form/list format.\n",
    "\n",
    "Let's run this over both days to ensure we capture the requeue record."
   ]
  },
  {
   "cell_type": "code",
   "execution_count": 7,
   "id": "2e90c421-d4c7-404e-a61b-f747b30775f1",
   "metadata": {},
   "outputs": [
    {
     "name": "stdout",
     "output_type": "stream",
     "text": [
      "4215033.casper-pbs\n",
      "   User          = vanderwb\n",
      "   Queue         = htc\n",
      "   Job Submit    = 2025-03-31 10:59:15\n",
      "   Eligible Time = 2025-03-31 10:59:15\n",
      "   Job Start     = 2025-03-31 10:59:20\n",
      "   Job End       = 2025-03-31 10:59:25\n",
      "   Used Mem(GB)  = 0\n",
      "   Avg CPU (%)   = 0.00\n",
      "   Waittime (h)  = 0.00\n",
      "   Walltime (h)  = 6.00\n",
      "   Elapsed (h)   = 0.00\n",
      "   Job Name      = STDIN\n",
      "   Exit Status   = -3\n",
      "   Account       = SCSG0001\n",
      "   Resources     = 1:ncpus=1:mem=30:ompthreads=1\n",
      "\n"
     ]
    }
   ],
   "source": [
    "qhist -p 20250331-20250401 --event R --list"
   ]
  },
  {
   "cell_type": "markdown",
   "id": "17e8c82f-504d-4dcf-a8ed-73685e895a32",
   "metadata": {},
   "source": [
    "## Advanced queries\n",
    "\n",
    "We can also ask `qhist` to compute averages for numerical fields. This will be most useful if we specify a custom format with the fields of interest. We can see a majority of the available fields - which can be referenced by convenient short names - using `--format=help`:"
   ]
  },
  {
   "cell_type": "code",
   "execution_count": 8,
   "id": "b5d7abc2-bd28-42c9-ba51-bde7feabc998",
   "metadata": {},
   "outputs": [
    {
     "name": "stdout",
     "output_type": "stream",
     "text": [
      "\n",
      "This option allows you to specify a custom format. This setting's behavior\n",
      "depends on which mode you are using:\n",
      "\n",
      "For default and wide behavior, enter a string containing Python's format syntax\n",
      "(modern version). For list and csv modes, a comma-delimited string with field\n",
      "names is the expected input.\n",
      "\n",
      "Examples:\n",
      "    qhist --format=\"{id:9.9} {account:9.9} {reqmem:8.2f} {memory:8.2f}\"\n",
      "    qhist --list --format=\"account,reqmem,memory\"\n",
      "\n",
      "The following variables are available:\n",
      "\n",
      "    account\n",
      "    avgcpu\n",
      "    cputype\n",
      "    elapsed\n",
      "    eligible\n",
      "    end\n",
      "    gputype\n",
      "    memory\n",
      "    mpiprocs\n",
      "    name\n",
      "    nodelist\n",
      "    numcpus\n",
      "    numgpus\n",
      "    numnodes\n",
      "    ompthreads\n",
      "    placement\n",
      "    queue\n",
      "    reqmem\n",
      "    resources\n",
      "    start\n",
      "    status\n",
      "    submit\n",
      "    user\n",
      "    walltime\n",
      "\n"
     ]
    }
   ],
   "source": [
    "qhist --format=help"
   ]
  },
  {
   "cell_type": "markdown",
   "id": "7683a012-f800-463a-834a-a538a5e2ab33",
   "metadata": {},
   "source": [
    "Now let's specify our custom format and compute averages. We can also filter jobs by `user` and `name` to get only **STDIN** (interactive) jobs by **vanderwb**. Once we layer on options, we see how `qhist` makes querying the PBS Pro accounting logs much easier than with the raw data."
   ]
  },
  {
   "cell_type": "code",
   "execution_count": 9,
   "id": "f5df56c2-e059-482b-bb4e-55ae5b37686d",
   "metadata": {},
   "outputs": [],
   "source": [
    "my_format=\"{numcpus:5d} {memory:8.2f} {reqmem:8.2f} {elapsed:8.2f}\""
   ]
  },
  {
   "cell_type": "code",
   "execution_count": 10,
   "id": "b1a15a8d-bb0b-419d-a012-39ec842cb4fe",
   "metadata": {},
   "outputs": [
    {
     "name": "stdout",
     "output_type": "stream",
     "text": [
      "NCPUs Mem(GB)  RMem(GB) Elap(h) \n",
      "----- -------- -------- --------\n",
      "    1     0.00     0.00     0.00\n",
      "    1     0.72    30.00     0.06\n",
      "\n",
      "Averages across 2 jobs:\n",
      "\n",
      "NCPUs Mem(GB)  RMem(GB) Elap(h) \n",
      "----- -------- -------- --------\n",
      " 1.00     0.36    15.00     0.03\n"
     ]
    }
   ],
   "source": [
    "qhist -p 20250331 --user vanderwb --name STDIN --format \"$my_format\" --average"
   ]
  },
  {
   "cell_type": "markdown",
   "id": "51c3f31c-3cd8-49ae-b743-d49a9a3d8b57",
   "metadata": {},
   "source": [
    "We can use free-form filtering to perform more complex searches. In the following example, we include both end and requeue records and then search for all jobs using more than 1 CPU core."
   ]
  },
  {
   "cell_type": "code",
   "execution_count": 11,
   "id": "377b7972-639e-49aa-9b70-1326b81a460a",
   "metadata": {},
   "outputs": [
    {
     "name": "stdout",
     "output_type": "stream",
     "text": [
      "Job ID       User       Queue    Nodes  NCPUs NGPUs     End  Mem(GB)   CPU(%)  Elap(h)\n",
      "------------ ---------- -------- ----- ------ ----- ------- -------- -------- --------\n",
      "4215265      bneuman    htc          1      5     0 31-1134     3.02    31.20     0.01\n"
     ]
    }
   ],
   "source": [
    "qhist -p 20250331-20250401 -e ER --filter \"numcpus>1\""
   ]
  },
  {
   "cell_type": "markdown",
   "id": "cf419dd2-90e3-40b9-93e8-35b3cab2016b",
   "metadata": {},
   "source": [
    "## Other output modes\n",
    "\n",
    "Finally, let's demonstrate other output modes. We have already seen the `-l/--list` output; we can also display jobs in two other modes - **csv** and **json**.\n",
    "\n",
    "Here, we examine just a single job: `4220853.casper-pbs`."
   ]
  },
  {
   "cell_type": "code",
   "execution_count": 12,
   "id": "fb7a7967-75a0-4c5f-b299-2bea57ac50e5",
   "metadata": {},
   "outputs": [
    {
     "name": "stdout",
     "output_type": "stream",
     "text": [
      "4220853.casper-pbs,negins,htc,2025-04-01 11:07:03,2025-04-01 11:07:03,2025-04-01 11:07:09,2025-04-01 13:07:35,0.24896240234375,8.0,0.0016666666666666668,2.0,2.006111111111111,cr-jhub-batch-stable,-29,P93300606,1:ncpus=1:mpiprocs=1:ompthreads=1:mem=4GB\n"
     ]
    }
   ],
   "source": [
    "# We also disable the data label header, to facilate machine readability\n",
    "qhist -p 20250401 4220853.casper-pbs --csv --noheader"
   ]
  },
  {
   "cell_type": "markdown",
   "id": "67a337e6-ad68-4c99-9bd3-12c1e200d6c6",
   "metadata": {},
   "source": [
    "While the output seems similar to the raw log output, now all fields are consistent across records and comma-separated (*whereas the raw records are either semicolon or space delimited depending on the type of record element*)."
   ]
  },
  {
   "cell_type": "code",
   "execution_count": 13,
   "id": "6c057ee7-7f46-431f-b4be-24946e7fad1b",
   "metadata": {},
   "outputs": [
    {
     "name": "stdout",
     "output_type": "stream",
     "text": [
      "{\n",
      "    \"4220853.casper-pbs\": {\n",
      "        \"time\": \"2025-04-01 13:07:35\",\n",
      "        \"type\": \"E\",\n",
      "        \"short_id\": \"4220853\",\n",
      "        \"user\": \"negins\",\n",
      "        \"group\": \"ncar\",\n",
      "        \"account\": \"P93300606\",\n",
      "        \"project\": \"_pbs_project_default\",\n",
      "        \"jobname\": \"cr-jhub-batch-stable\",\n",
      "        \"queue\": \"htc\",\n",
      "        \"ctime\": \"2025-04-01 11:07:03\",\n",
      "        \"qtime\": \"1743527223\",\n",
      "        \"etime\": \"2025-04-01 11:07:03\",\n",
      "        \"start\": \"2025-04-01 11:07:09\",\n",
      "        \"exec_host\": \"crhtc65/20\",\n",
      "        \"exec_vnode\": \"(crhtc65:ncpus=1:mem=4194304kb)\",\n",
      "        \"Resource_List\": {\n",
      "            \"mem\": 4.0,\n",
      "            \"mpiprocs\": \"1\",\n",
      "            \"mps\": \"0\",\n",
      "            \"ncpus\": 1,\n",
      "            \"ngpus\": 0,\n",
      "            \"nodect\": 1,\n",
      "            \"nvpus\": \"0\",\n",
      "            \"place\": \"scatter\",\n",
      "            \"select\": \"1:ncpus=1:mpiprocs=1:ompthreads=1:mem=4GB\",\n",
      "            \"walltime\": 2.0\n",
      "        },\n",
      "        \"session\": \"104352\",\n",
      "        \"end\": \"2025-04-01 13:07:35\",\n",
      "        \"Exit_status\": \"-29\",\n",
      "        \"resources_used\": {\n",
      "            \"cpupercent\": 8,\n",
      "            \"cput\": 0.06444444444444444,\n",
      "            \"mem\": 0.24896240234375,\n",
      "            \"ncpus\": 1,\n",
      "            \"vmem\": 0.6363372802734375,\n",
      "            \"walltime\": 2.006111111111111,\n",
      "            \"avgcpu\": 8.0\n",
      "        },\n",
      "        \"eligible_time\": 0.0025,\n",
      "        \"run_count\": 1,\n",
      "        \"waittime\": 0.0016666666666666668\n",
      "    }\n",
      "}\n"
     ]
    }
   ],
   "source": [
    "qhist -p 20250401 4220853.casper-pbs --json"
   ]
  },
  {
   "cell_type": "markdown",
   "id": "fbd6bd9b-b47e-4b11-ac0b-8765315fc597",
   "metadata": {},
   "source": [
    "While we only show a single job in these two modes for readability, they support multiple-job queries as do all other output modes."
   ]
  }
 ],
 "metadata": {
  "kernelspec": {
   "display_name": "Bash",
   "language": "bash",
   "name": "bash"
  },
  "language_info": {
   "codemirror_mode": "shell",
   "file_extension": ".sh",
   "mimetype": "text/x-sh",
   "name": "bash"
  }
 },
 "nbformat": 4,
 "nbformat_minor": 5
}
